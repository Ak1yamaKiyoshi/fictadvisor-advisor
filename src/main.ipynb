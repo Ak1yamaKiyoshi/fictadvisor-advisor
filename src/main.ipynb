{
 "cells": [
  {
   "cell_type": "markdown",
   "metadata": {},
   "source": [
    "## > Import libraries"
   ]
  },
  {
   "cell_type": "code",
   "execution_count": 1,
   "metadata": {},
   "outputs": [],
   "source": [
    "import time\n",
    "from dotenv import load_dotenv\n",
    "import os\n",
    "import sys\n",
    "import subprocess\n",
    "import shutil\n",
    "from jsmin import jsmin\n",
    "import re \n",
    "from selenium import webdriver\n",
    "from selenium.webdriver.chrome.service import Service as ChromeService\n",
    "from webdriver_manager.chrome import ChromeDriverManager\n",
    "from selenium.webdriver.common.by import By\n",
    "import git  # pip install gitpython"
   ]
  },
  {
   "cell_type": "markdown",
   "metadata": {},
   "source": [
    "## > Configs "
   ]
  },
  {
   "cell_type": "markdown",
   "metadata": {},
   "source": [
    "#### User configs"
   ]
  },
  {
   "cell_type": "code",
   "execution_count": 2,
   "metadata": {},
   "outputs": [],
   "source": [
    "URL_ISSUE = \"https://github.com/fictadvisor/fictadvisor-web/issues/864\"\n",
    "IS_FRONTEND = True\n",
    "RE_CLONE_REPOSITORY = False"
   ]
  },
  {
   "cell_type": "markdown",
   "metadata": {},
   "source": [
    "#### Constant configs"
   ]
  },
  {
   "cell_type": "code",
   "execution_count": 3,
   "metadata": {},
   "outputs": [],
   "source": [
    "CONTACT_NAME = \"https://t.me/akiyama_kiyoshi\"\n",
    "URL_FRONTEND_REPO = \"https://github.com/fictadvisor/fictadvisor-web.git\" \n",
    "DIRECTORY_FRONTEND_REPO = '../assets/repositories/frontend/'\n",
    "OPENAI_API_KEY=\"\""
   ]
  },
  {
   "cell_type": "markdown",
   "metadata": {},
   "source": [
    "## > Utils "
   ]
  },
  {
   "cell_type": "code",
   "execution_count": 4,
   "metadata": {},
   "outputs": [],
   "source": [
    "def is_github_issue(url):\n",
    "    pattern = r'https://github\\.com/[^/]+/[^/]+/issues/\\d+'\n",
    "    return bool(re.match(pattern, url))\n",
    "\n",
    "def issue_meta(url, driver, to_close = True):\n",
    "    \"\"\" \n",
    "    [url] - issue URL \n",
    "    Returns: {\"title\": ?, \"description\": ?} \n",
    "    \"\"\"\n",
    "    if not is_github_issue(url):\n",
    "        example_url = 'https://github.com/fictadvisor/fictadvisor-web/issues/655'\n",
    "        raise Exception(f\" Wrong URL \\n Your url: {url} \\n Exampple url: {example_url} \")\n",
    "\n",
    "    try: \n",
    "        driver.get(url)\n",
    "        issue_title = driver.find_element(By.CLASS_NAME, \"js-issue-title\").text\n",
    "        issue_description = driver.find_elements_by_css_selector('d-block,comment-body,markdown-body,js-comment-body')\n",
    "        if to_close: \n",
    "            driver.quit()\n",
    "        \n",
    "        return {\"title\": issue_title, \"description\":issue_description}\n",
    "    except: \n",
    "        driver.quit()\n",
    "        raise Exception(f\" Wrong URL \\n Your url: {url} \\n Something gone wrong during opening \")\n",
    "    \n",
    "def get_file_tree(path):\n",
    "    file_tree = \"\"\n",
    "    for dirpath, dirnames, filenames in os.walk(path):\n",
    "        for file_name in filenames:\n",
    "            file_tree += f\"\\t{file_name}\\n\"\n",
    "    return file_tree\n",
    "\n",
    "def get_all_folder_names(path):\n",
    "    \"\"\" removes duplicates \"\"\"\n",
    "    folders = []\n",
    "    for entry in os.scandir(path):\n",
    "        if entry.is_dir():\n",
    "            folders.append(os.path.basename(entry.path))\n",
    "            folders.extend(get_all_folder_names(entry.path))\n",
    "    return list(set(folders))\n",
    "\n",
    "def find_folders(base_path, folder_names):\n",
    "    \"\"\" returns paths to folder names \"\"\"\n",
    "    folder_paths = {}\n",
    "    for root, dirs, files in os.walk(base_path):\n",
    "        for folder_name in folder_names:\n",
    "            if folder_name in dirs:\n",
    "                folder_paths[folder_name] = os.path.join(root, folder_name)\n",
    "    return folder_paths\n",
    "\n",
    "def get_all_contents(path):\n",
    "    contents = []\n",
    "    for dirpath, dirnames, filenames in os.walk(path):\n",
    "        for dirname in dirnames:\n",
    "            contents.append(os.path.join(dirpath, dirname))\n",
    "        for filename in filenames:\n",
    "            contents.append(os.path.join(dirpath, filename))\n",
    "    return contents\n",
    "\n",
    "def minify_js_file(file_path):\n",
    "    with open(file_path, 'r') as js_file:\n",
    "        return jsmin(js_file.read())"
   ]
  },
  {
   "cell_type": "markdown",
   "metadata": {},
   "source": [
    "## > Setup"
   ]
  },
  {
   "cell_type": "code",
   "execution_count": 5,
   "metadata": {},
   "outputs": [],
   "source": [
    "if not IS_FRONTEND: raise Exception(\" Backend repository is not supported right now, for more details contact \" + CONTACT_NAME)"
   ]
  },
  {
   "cell_type": "code",
   "execution_count": 6,
   "metadata": {},
   "outputs": [
    {
     "name": "stderr",
     "output_type": "stream",
     "text": [
      "/bin/sh: line 1: google-chrome: command not found\n",
      "/bin/sh: line 1: google-chrome: command not found\n"
     ]
    }
   ],
   "source": [
    "driver = webdriver.Chrome(ChromeDriverManager().install())\n"
   ]
  },
  {
   "cell_type": "markdown",
   "metadata": {},
   "source": [
    "load env file "
   ]
  },
  {
   "cell_type": "code",
   "execution_count": 7,
   "metadata": {},
   "outputs": [
    {
     "data": {
      "text/plain": [
       "True"
      ]
     },
     "execution_count": 7,
     "metadata": {},
     "output_type": "execute_result"
    }
   ],
   "source": [
    "load_dotenv('./.env')"
   ]
  },
  {
   "cell_type": "markdown",
   "metadata": {},
   "source": [
    "## > Getting repository"
   ]
  },
  {
   "cell_type": "code",
   "execution_count": 8,
   "metadata": {},
   "outputs": [],
   "source": [
    "if RE_CLONE_REPOSITORY:     \n",
    "    directory = '../assets/repositories/frontend/'\n",
    "    if os.path.exists(directory):\n",
    "        shutil.rmtree(directory)\n",
    "\n",
    "    subprocess.run([\"git\", \"clone\", URL_FRONTEND_REPO, DIRECTORY_FRONTEND_REPO])"
   ]
  },
  {
   "cell_type": "markdown",
   "metadata": {},
   "source": [
    "## > Setup"
   ]
  },
  {
   "cell_type": "markdown",
   "metadata": {},
   "source": [
    "## Prompting \n",
    "### Steps \n",
    "1. GPT should"
   ]
  },
  {
   "cell_type": "code",
   "execution_count": 9,
   "metadata": {},
   "outputs": [],
   "source": [
    "from openai import OpenAI\n",
    "client = OpenAI()"
   ]
  },
  {
   "cell_type": "code",
   "execution_count": 10,
   "metadata": {},
   "outputs": [],
   "source": [
    "folder_names_joined=','.join(get_all_folder_names(DIRECTORY_FRONTEND_REPO))\n",
    "issue = issue_meta(URL_ISSUE, driver, )"
   ]
  },
  {
   "cell_type": "code",
   "execution_count": 11,
   "metadata": {},
   "outputs": [],
   "source": [
    "completion = client.chat.completions.create(\n",
    "  model=\"gpt-3.5-turbo\",\n",
    "  messages=[\n",
    "    {\"role\": \"system\", \"content\": \"Act as experienced assistant. You are going to help users with their tasks. In this answer You need to answer what folders do you need to see to better answer the question. provide only folder names. Provide only folder names separated with \\n. Do  not write anything else\"},\n",
    "    {\"role\": \"user\", \"content\": f\" FolderStructure: {folder_names_joined}; \\n What folders do you need to check to better answer this:  {issue['title']} \\n {issue['description']}\"}\n",
    "  ]\n",
    ")"
   ]
  },
  {
   "cell_type": "code",
   "execution_count": 12,
   "metadata": {},
   "outputs": [
    {
     "name": "stdout",
     "output_type": "stream",
     "text": [
      "file structure of needed folders: footer\n",
      " ['../src/fictadvisor-web/src/components/common/layout/footer/constants', '../src/fictadvisor-web/src/components/common/layout/footer/Footer.tsx', '../src/fictadvisor-web/src/components/common/layout/footer/index.ts', '../src/fictadvisor-web/src/components/common/layout/footer/Footer.styles.ts', '../src/fictadvisor-web/src/components/common/layout/footer/constants/index.tsx']\n",
      "\n"
     ]
    }
   ],
   "source": [
    "folder_names = completion.choices[0].message.content.split(\",\")  \n",
    "folder_paths = find_folders('../', folder_names)\n",
    "structure_prompt = \"file structure of needed folders: \"\n",
    "\n",
    "for name, path in folder_paths.items():\n",
    "  structure_prompt += f\"{name}\\n {get_all_contents(path)}\\n\"  \n",
    "  \n",
    "  print(structure_prompt)"
   ]
  },
  {
   "cell_type": "code",
   "execution_count": null,
   "metadata": {},
   "outputs": [],
   "source": []
  },
  {
   "cell_type": "code",
   "execution_count": 13,
   "metadata": {},
   "outputs": [],
   "source": [
    "completion = client.chat.completions.create(\n",
    "  model=\"gpt-3.5-turbo\",\n",
    "  messages=[\n",
    "    {\"role\": \"system\", \"content\": \"Act as experienced assistant. You are going to help users with their tasks. In this answer You need to answer what files do you need to see to better answer the question. provide only file names. Provide only file names separated with \\n. Do  not write anything else\"},\n",
    "    {\"role\": \"user\", \"content\": f\" FolderStructure: {structure_prompt}; \\n What files do you need to check to better answer this:  {issue['title']}\"}\n",
    "  ]\n",
    ")"
   ]
  },
  {
   "cell_type": "code",
   "execution_count": 14,
   "metadata": {},
   "outputs": [],
   "source": [
    "paths = structure_prompt\n",
    "structure_prompt = \"\" \n",
    "\n",
    "\"\"\" TODO: SELECT NEEDED FILES LATER ( INSTEAD OF MINIFYING THEM ALL ) \"\"\"\n",
    "\"\"\" TODO: HANDLE ERRORS WHEN FILE READING \"\"\"\n",
    "for js_file_path in paths:\n",
    "    try: \n",
    "        minified = minify_js_file(js_file_path)\n",
    "        print(minified)\n",
    "        structure_prompt += (f\"file: {js_file_path}, content: {minified}\")\n",
    "    except: \n",
    "        pass\n",
    "    "
   ]
  },
  {
   "cell_type": "code",
   "execution_count": 15,
   "metadata": {},
   "outputs": [],
   "source": [
    "completion = client.chat.completions.create(\n",
    "  model=\"gpt-3.5-turbo\",\n",
    "  messages=[\n",
    "    {\"role\": \"system\", \"content\": \"you have been provided with the files you need to respond. If there is not enough information, try to answer anyway, but ask for more context if necessary. You need to make a detailed plan of how to complete the task, what to look for, and what can go wrong, and write the code for it.\"},\n",
    "    {\"role\": \"user\", \"content\": f\" How do i do this task: {issue['title']} using this: {structure_prompt}. Assume that in project used MUI, React, Next, Typescript\"}\n",
    "  ]\n",
    ")\n",
    "plan = completion.choices[0].message.content"
   ]
  },
  {
   "cell_type": "code",
   "execution_count": 16,
   "metadata": {},
   "outputs": [
    {
     "name": "stdout",
     "output_type": "stream",
     "text": [
      "Based on the provided plan, here is an example of how you could implement the necessary code changes to fix the bug:\n",
      "\n",
      "```jsx\n",
      "// Assuming the vertical command menu component is called VerticalMenu and the footer component is called Footer\n",
      "\n",
      "import React from \"react\";\n",
      "import { VerticalMenu } from \"./VerticalMenu\";\n",
      "import { Footer } from \"./Footer\";\n",
      "\n",
      "const GroupPage = () => {\n",
      "  return (\n",
      "    <>\n",
      "      <VerticalMenu />\n",
      "      <div className=\"content\">\n",
      "        {/* The content of your \"Група\" page */}\n",
      "      </div>\n",
      "      <Footer />\n",
      "    </>\n",
      "  );\n",
      "};\n",
      "\n",
      "export default GroupPage;\n",
      "```\n",
      "\n",
      "In the above code, we assume that you have separate components for the vertical command menu and the footer. By placing them in the correct order in the GroupPage component, you ensure that the vertical menu appears before the content and the footer appears after the content.\n",
      "\n",
      "Remember to modify the code based on your actual project structure and naming conventions.\n",
      "\n",
      "Additionally, you may need to adjust the CSS of the VerticalMenu and Footer components to ensure proper positioning. For example:\n",
      "\n",
      "```css\n",
      "/* Assuming the VerticalMenu component has the class 'vertical-menu' */\n",
      "\n",
      ".vertical-menu {\n",
      "  position: fixed;\n",
      "  top: 0;\n",
      "  bottom: 0;\n",
      "  width: 200px;\n",
      "  /* Add any other necessary styles for the menu */\n",
      "  z-index: 100; /* Increase the z-index value if necessary */\n",
      "}\n",
      "\n",
      "/* Assuming the Footer component has the class 'footer' */\n",
      "\n",
      ".footer {\n",
      "  /* Add any necessary styles for the footer */\n",
      "}\n",
      "```\n",
      "\n",
      "Again, please customize the CSS code according to your project's specific requirements.\n",
      "\n",
      "Remember to test the changes on a device or browser window with the resolution specified in the bug report (1023px by 825px).\n"
     ]
    }
   ],
   "source": [
    "completion = client.chat.completions.create(\n",
    "  model=\"gpt-3.5-turbo\",\n",
    "  messages=[\n",
    "    {\"role\": \"system\", \"content\": \"Act as high experienced React developer. You need to write code that asked using plan provided if needed \"},\n",
    "    {\"role\": \"user\", \"content\": f\" How do i do this task: {issue['title']} using this: {structure_prompt}. Assume that in project used MUI, React, Next, Typescript\\n plan: {plan}\" }\n",
    "  ]\n",
    ")\n",
    "print(completion.choices[0].message.content)\n",
    "\n",
    "\"\"\" TODO: NEED MORE CONTEXT FROM COMPONENTS, MAKE LIST OF THEM AND FEED TO GPT WHEN NEEDED \"\"\""
   ]
  },
  {
   "cell_type": "markdown",
   "metadata": {},
   "source": []
  }
 ],
 "metadata": {
  "kernelspec": {
   "display_name": "base",
   "language": "python",
   "name": "python3"
  },
  "language_info": {
   "codemirror_mode": {
    "name": "ipython",
    "version": 3
   },
   "file_extension": ".py",
   "mimetype": "text/x-python",
   "name": "python",
   "nbconvert_exporter": "python",
   "pygments_lexer": "ipython3",
   "version": "3.11.5"
  }
 },
 "nbformat": 4,
 "nbformat_minor": 2
}
