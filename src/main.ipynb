{
 "cells": [
  {
   "cell_type": "markdown",
   "metadata": {},
   "source": [
    "## > Import libraries"
   ]
  },
  {
   "cell_type": "code",
   "execution_count": 1,
   "metadata": {},
   "outputs": [],
   "source": [
    "import time\n",
    "from dotenv import load_dotenv\n",
    "import os\n",
    "import sys\n",
    "import subprocess\n",
    "import shutil\n",
    "from jsmin import jsmin\n",
    "import re \n",
    "from selenium import webdriver\n",
    "from selenium.webdriver.chrome.service import Service as ChromeService\n",
    "from webdriver_manager.chrome import ChromeDriverManager\n",
    "from selenium.webdriver.common.by import By\n",
    "import git  # pip install gitpython"
   ]
  },
  {
   "cell_type": "markdown",
   "metadata": {},
   "source": [
    "## > Configs "
   ]
  },
  {
   "cell_type": "markdown",
   "metadata": {},
   "source": [
    "#### User configs"
   ]
  },
  {
   "cell_type": "code",
   "execution_count": 2,
   "metadata": {},
   "outputs": [],
   "source": [
    "URL_ISSUE = \"https://github.com/fictadvisor/fictadvisor-web/issues/865\"\n",
    "IS_FRONTEND = True\n",
    "RE_CLONE_REPOSITORY = False"
   ]
  },
  {
   "cell_type": "markdown",
   "metadata": {},
   "source": [
    "#### Constant configs"
   ]
  },
  {
   "cell_type": "code",
   "execution_count": 3,
   "metadata": {},
   "outputs": [],
   "source": [
    "CONTACT_NAME = \"https://t.me/akiyama_kiyoshi\"\n",
    "URL_FRONTEND_REPO = \"https://github.com/fictadvisor/fictadvisor-web.git\" \n",
    "DIRECTORY_FRONTEND_REPO = '../assets/repositories/frontend/'\n",
    "OPENAI_API_KEY=\"\""
   ]
  },
  {
   "cell_type": "markdown",
   "metadata": {},
   "source": [
    "## > Utils "
   ]
  },
  {
   "cell_type": "code",
   "execution_count": 4,
   "metadata": {},
   "outputs": [],
   "source": [
    "def is_github_issue(url):\n",
    "    pattern = r'https://github\\.com/[^/]+/[^/]+/issues/\\d+'\n",
    "    return bool(re.match(pattern, url))\n",
    "\n",
    "def issue_meta(url, driver, to_close = True):\n",
    "    \"\"\" \n",
    "    [url] - issue URL \n",
    "    Returns: {\"title\": ?, \"description\": ?} \n",
    "    \"\"\"\n",
    "    if not is_github_issue(url):\n",
    "        example_url = 'https://github.com/fictadvisor/fictadvisor-web/issues/655'\n",
    "        raise Exception(f\" Wrong URL \\n Your url: {url} \\n Exampple url: {example_url} \")\n",
    "\n",
    "    try: \n",
    "        driver.get(url)\n",
    "        issue_title = driver.find_element(By.CLASS_NAME, \"js-issue-title\").text\n",
    "        issue_description = driver.find_elements_by_tag_name('em')[0].text\n",
    "        if to_close: \n",
    "            driver.quit()\n",
    "        \n",
    "        return {\"title\": issue_title, \"description\":issue_description}\n",
    "    except: \n",
    "        driver.quit()\n",
    "        raise Exception(f\" Wrong URL \\n Your url: {url} \\n Something gone wrong during opening \")\n",
    "    \n",
    "def get_file_tree(path):\n",
    "    file_tree = \"\"\n",
    "    for dirpath, dirnames, filenames in os.walk(path):\n",
    "        for file_name in filenames:\n",
    "            file_tree += f\"\\t{file_name}\\n\"\n",
    "    return file_tree\n",
    "\n",
    "def get_all_folder_names(path):\n",
    "    \"\"\" removes duplicates \"\"\"\n",
    "    folders = []\n",
    "    for entry in os.scandir(path):\n",
    "        if entry.is_dir():\n",
    "            folders.append(os.path.basename(entry.path))\n",
    "            folders.extend(get_all_folder_names(entry.path))\n",
    "    return list(set(folders))\n",
    "\n",
    "def find_folders(base_path, folder_names):\n",
    "    \"\"\" returns paths to folder names \"\"\"\n",
    "    folder_paths = {}\n",
    "    for root, dirs, files in os.walk(base_path):\n",
    "        for folder_name in folder_names:\n",
    "            if folder_name in dirs:\n",
    "                folder_paths[folder_name] = os.path.join(root, folder_name)\n",
    "    return folder_paths\n",
    "\n",
    "def get_all_contents(path):\n",
    "    contents = []\n",
    "    for dirpath, dirnames, filenames in os.walk(path):\n",
    "        for dirname in dirnames:\n",
    "            contents.append(os.path.join(dirpath, dirname))\n",
    "        for filename in filenames:\n",
    "            contents.append(os.path.join(dirpath, filename))\n",
    "    return contents\n",
    "\n",
    "def minify_js_file(file_path):\n",
    "    with open(file_path, 'r') as js_file:\n",
    "        return jsmin(js_file.read())"
   ]
  },
  {
   "cell_type": "markdown",
   "metadata": {},
   "source": [
    "## > Setup"
   ]
  },
  {
   "cell_type": "code",
   "execution_count": 5,
   "metadata": {},
   "outputs": [],
   "source": [
    "if not IS_FRONTEND: raise Exception(\" Backend repository is not supported right now, for more details contact \" + CONTACT_NAME)"
   ]
  },
  {
   "cell_type": "code",
   "execution_count": 6,
   "metadata": {},
   "outputs": [
    {
     "name": "stderr",
     "output_type": "stream",
     "text": [
      "/bin/sh: line 1: google-chrome: command not found\n",
      "/bin/sh: line 1: google-chrome: command not found\n"
     ]
    }
   ],
   "source": [
    "driver = webdriver.Chrome(ChromeDriverManager().install())\n"
   ]
  },
  {
   "cell_type": "markdown",
   "metadata": {},
   "source": [
    "load env file "
   ]
  },
  {
   "cell_type": "code",
   "execution_count": 7,
   "metadata": {},
   "outputs": [
    {
     "data": {
      "text/plain": [
       "True"
      ]
     },
     "execution_count": 7,
     "metadata": {},
     "output_type": "execute_result"
    }
   ],
   "source": [
    "load_dotenv('./.env')"
   ]
  },
  {
   "cell_type": "markdown",
   "metadata": {},
   "source": [
    "## > Getting repository"
   ]
  },
  {
   "cell_type": "code",
   "execution_count": 8,
   "metadata": {},
   "outputs": [],
   "source": [
    "if RE_CLONE_REPOSITORY:     \n",
    "    directory = '../assets/repositories/frontend/'\n",
    "    if os.path.exists(directory):\n",
    "        shutil.rmtree(directory)\n",
    "\n",
    "    subprocess.run([\"git\", \"clone\", URL_FRONTEND_REPO, DIRECTORY_FRONTEND_REPO])"
   ]
  },
  {
   "cell_type": "markdown",
   "metadata": {},
   "source": [
    "## > Setup"
   ]
  },
  {
   "cell_type": "code",
   "execution_count": 9,
   "metadata": {},
   "outputs": [
    {
     "name": "stdout",
     "output_type": "stream",
     "text": [
      "{'title': 'Add button to sort students in table by name and surname', 'description': 'No description provided.'}\n",
      "[personal-subject-teacher-tabs,branches,AnswersSaved,subject-tab,logs,buttonIcons,with-formik,create-password-page,calendar-section,StarButton,layout,types,groups,src,objects,column-chart,group-tab,numbered-text-area,poll-buttons,link-valid,input,personal-form,tabs-section,tab-panel,teacher-header-card,auth,email-verification,info,use-tab-state,group,add-delete-teachers,.git,schedule-page,avatars,security-tab,subject-card,progress,.storybook,TrashBucketButton,schedule-events-section,selective-tab,teacher-card,schedule,student-table,alert-button,authentication-buttons,radar-background,cards,single-question,common,use-tab-close,forgot-password-form,ISSUE_TEMPLATE,radio,button,lib,table,poll-page,password-recovery,tab,origin,priority-approve-page,CloseButton,schedule-header,poll-form,breadcrumbs,util,main-page,desktop-header,header-desktop-card,contract,schedule-time,answers-sheet,schedule-section,login-form-block,privacy-page,constants,schedule-info-card,checkboxes-section,email-confirmation-page,calendar-input,use-toast-error,contacts,student-resources,search-form,comment-tab,personal-teacher-card,pallete,pack,toast,contacts-block,resource-card,authentication-context,form,config,option,selective-block,gifs,search-pages,verify-email-token-page,entrant-dashboard-page,pop-ups,mobile,admin-panel,dates,api,token-popup,avatar-dropzone,404-page,link-expired,radio-button,completely-normal-folder,subject,weekArrows,discipline-related-fields,heads,drawer,right-block,rating,theme,personal-teacher-subject-page,header-mobile-card,poll,icon-button,button-mui,subject-search,pages,SortButton,toast-context,refs,PopupTitle,departments,Popup,admin-panel-layout,icons,roles,contract-page,account-page,custom-link,tag,partials,divider,[subjectId],telegram,variants,teachers,requests-table,tab-context,poll-card,questions-list,utils,date-picker,use-authentication,edit,poll-teacher-card,tags,public,students,personal-teacher-page,PopupContent,text-area,about-page,const,register-form,schedule-column,schedule-card,contract-admin-page,teacher-search,login-page,line-graph,dropdown,checkboxes-dropdown,entrant-approve-form,card-roles,subjects,styles,schedule-form,no-group-block,register-page,images,change-avatar-window,.github,general-tab,poll-teachers-page,personal-info,mobile-header,change-password-form,typography,ui,use-outside-click,PopupActions,steps,validation,tab-list,page-layout,opened-selective,users,forgot-password-page,schedule-line,switch,header,ArrowButton,priority-page,workflows,checkbox,user,floating-card,poll-fucked-page,create-password-form,store,permisson,components,footer,breakpoints,left-block,input-mui,use-toast,text-area-mui,circle-diagram,text-area-popup,teacher,schedule-dropdown,alert,hooks,register,services,disciplines,radar,schedule-input,admin,schedule-event-edit-section,entrant-search-form,groups-dropdown,admin-default,subject-teacher-search,logo-register-block,tooltip,icon-button-mui,slider,rights,entrant-admin-page,remotes,personal-teacher-tabs,comment,login-form]\n",
      "3013\n"
     ]
    }
   ],
   "source": [
    "issue = issue_meta(URL_ISSUE, driver) \n",
    "folder_names = get_all_folder_names(DIRECTORY_FRONTEND_REPO)\n",
    "folder_names_joined = f\"[{','.join(folder_names)}]\"\n",
    "print (issue)\n",
    "print(  folder_names_joined) \n",
    "print(len(folder_names_joined)) "
   ]
  },
  {
   "cell_type": "code",
   "execution_count": null,
   "metadata": {},
   "outputs": [],
   "source": []
  },
  {
   "cell_type": "markdown",
   "metadata": {},
   "source": [
    "## Prompting \n",
    "### Steps \n",
    "1. GPT should"
   ]
  },
  {
   "cell_type": "code",
   "execution_count": 10,
   "metadata": {},
   "outputs": [],
   "source": [
    "from openai import OpenAI\n",
    "client = OpenAI()"
   ]
  },
  {
   "cell_type": "code",
   "execution_count": null,
   "metadata": {},
   "outputs": [],
   "source": []
  },
  {
   "cell_type": "code",
   "execution_count": 11,
   "metadata": {},
   "outputs": [],
   "source": [
    "completion = client.chat.completions.create(\n",
    "  model=\"gpt-3.5-turbo\",\n",
    "  messages=[\n",
    "    {\"role\": \"system\", \"content\": \"Act as experienced assistant. You are going to help users with their tasks. In this answer You need to answer what folders do you need to see to better answer the question. provide only folder names. Provide only folder names separated with \\n. Do  not write anything else\"},\n",
    "    {\"role\": \"user\", \"content\": f\" FolderStructure: {folder_names_joined}; \\n What folders do you need to check to better answer this:  {issue['title']} \\n {issue['description']}\"}\n",
    "  ]\n",
    ")"
   ]
  },
  {
   "cell_type": "code",
   "execution_count": 12,
   "metadata": {},
   "outputs": [
    {
     "name": "stdout",
     "output_type": "stream",
     "text": [
      "file structure of needed folders: students\n",
      " ['../src/fictadvisor-web/src/pages/admin/students/edit', '../src/fictadvisor-web/src/pages/admin/students/index.tsx', '../src/fictadvisor-web/src/pages/admin/students/create.tsx', '../src/fictadvisor-web/src/pages/admin/students/edit/[studentId].tsx']\n",
      "\n"
     ]
    }
   ],
   "source": [
    "folder_names = completion.choices[0].message.content.split(\",\")  \n",
    "folder_paths = find_folders('../', folder_names)\n",
    "\n",
    "\n",
    "structure_prompt = \"file structure of needed folders: \"\n",
    "\n",
    "for name, path in folder_paths.items():\n",
    "  structure_prompt += f\"{name}\\n {get_all_contents(path)}\\n\"  \n",
    "  \n",
    "  print(structure_prompt)"
   ]
  },
  {
   "cell_type": "code",
   "execution_count": 13,
   "metadata": {},
   "outputs": [],
   "source": [
    "completion = client.chat.completions.create(\n",
    "  model=\"gpt-3.5-turbo\",\n",
    "  messages=[\n",
    "    {\"role\": \"system\", \"content\": \"Act as experienced assistant. You are going to help users with their tasks. In this answer You need to answer what files do you need to see to better answer the question. provide only file names. Provide only file names separated with \\n. Do  not write anything else\"},\n",
    "    {\"role\": \"user\", \"content\": f\" FolderStructure: {structure_prompt}; \\n What files do you need to check to better answer this:  {issue['title']}\"}\n",
    "  ]\n",
    ")"
   ]
  },
  {
   "cell_type": "code",
   "execution_count": 14,
   "metadata": {},
   "outputs": [
    {
     "name": "stdout",
     "output_type": "stream",
     "text": [
      "import React from'react';import AdminPanelLayout from'@/components/common/layout/admin-panel-layout/AdminPanelLayout';const Index=()=>{return(<AdminPanelLayout><div></div></AdminPanelLayout>);};export default Index;\n"
     ]
    }
   ],
   "source": [
    "\n",
    "structure_prompt = \"\" \n",
    "\n",
    "for js_file_path in completion.choices[0].message.content.split(\",\"):\n",
    "    minified = minify_js_file(js_file_path)\n",
    "    structure_prompt += f\"file: {js_file_path}, content: {minified}\"\n",
    "    print(minified)"
   ]
  },
  {
   "cell_type": "code",
   "execution_count": 15,
   "metadata": {},
   "outputs": [
    {
     "name": "stdout",
     "output_type": "stream",
     "text": [
      "To add a button to sort students in a table by name and surname in the given file, you need to follow these steps:\n",
      "\n",
      "1. Update the file: ../src/fictadvisor-web/src/pages/admin/students/index.tsx\n",
      "\n",
      "2. Add the necessary imports: \n",
      "```javascript\n",
      "import React, { useState } from 'react';\n",
      "import AdminPanelLayout from '@/components/common/layout/admin-panel-layout/AdminPanelLayout';\n",
      "```\n",
      "\n",
      "3. Define a functional component called `Index`:\n",
      "\n",
      "```javascript\n",
      "const Index = () => {\n",
      "  const [students, setStudents] = useState([\n",
      "      { name: 'John', surname: 'Doe', /* other student details */ },\n",
      "      { name: 'Jane', surname: 'Smith', /* other student details */ },\n",
      "      // Add more student data as needed\n",
      "  ]);\n",
      "\n",
      "  const sortStudentsByName = () => {\n",
      "    // Copy the students array to avoid mutating the state directly\n",
      "    const sortedStudents = [...students];\n",
      "\n",
      "    sortedStudents.sort((a, b) => {\n",
      "      // Compare names case-insensitively\n",
      "      const nameA = a.name.toLowerCase();\n",
      "      const nameB = b.name.toLowerCase();\n",
      "\n",
      "      if (nameA < nameB) return -1;\n",
      "      if (nameA > nameB) return 1;\n",
      "      return 0;\n",
      "    });\n",
      "\n",
      "    setStudents(sortedStudents);\n",
      "  };\n",
      "\n",
      "  const sortStudentsBySurname = () => {\n",
      "    const sortedStudents = [...students];\n",
      "\n",
      "    sortedStudents.sort((a, b) => {\n",
      "      // Compare surnames case-insensitively\n",
      "      const surnameA = a.surname.toLowerCase();\n",
      "      const surnameB = b.surname.toLowerCase();\n",
      "\n",
      "      if (surnameA < surnameB) return -1;\n",
      "      if (surnameA > surnameB) return 1;\n",
      "      return 0;\n",
      "    });\n",
      "\n",
      "    setStudents(sortedStudents);\n",
      "  };\n",
      "\n",
      "  return (\n",
      "    <AdminPanelLayout>\n",
      "      <div>\n",
      "        <button onClick={sortStudentsByName}>Sort by Name</button>\n",
      "        <button onClick={sortStudentsBySurname}>Sort by Surname</button>\n",
      "        {/* Render the table and students list using the sorted data */}\n",
      "      </div>\n",
      "    </AdminPanelLayout>\n",
      "  );\n",
      "};\n",
      "\n",
      "export default Index;\n",
      "```\n",
      "\n",
      "4. Replace the comment `Render the table and students list using the sorted data` with the code to render the table and students list using the `students` state.\n",
      "\n",
      "Make sure to adjust the table and students list rendering based on the structure of the student data you have. The above code assumes each student object has at least `name` and `surname` properties, but you may need to update it accordingly.\n",
      "\n",
      "Now, when you open the page where this component is rendered, you will see two buttons: \"Sort by Name\" and \"Sort by Surname\". Clicking on either of these buttons will sort the students in the table accordingly.\n"
     ]
    }
   ],
   "source": [
    "completion = client.chat.completions.create(\n",
    "  model=\"gpt-3.5-turbo\",\n",
    "  messages=[\n",
    "    {\"role\": \"system\", \"content\": \"you have been provided with the files you need to respond. If there is not enough information, try to answer anyway, but ask for more context if necessary. You need to make a detailed plan of how to complete the task, what to look for, and what can go wrong, and write the code for it.\"},\n",
    "    {\"role\": \"user\", \"content\": f\" How do i do this task: {issue['title']} using this: {structure_prompt}\"}\n",
    "  ]\n",
    ")\n",
    "print(completion.choices[0].message.content)"
   ]
  },
  {
   "cell_type": "markdown",
   "metadata": {},
   "source": []
  }
 ],
 "metadata": {
  "kernelspec": {
   "display_name": "base",
   "language": "python",
   "name": "python3"
  },
  "language_info": {
   "codemirror_mode": {
    "name": "ipython",
    "version": 3
   },
   "file_extension": ".py",
   "mimetype": "text/x-python",
   "name": "python",
   "nbconvert_exporter": "python",
   "pygments_lexer": "ipython3",
   "version": "3.11.5"
  }
 },
 "nbformat": 4,
 "nbformat_minor": 2
}
