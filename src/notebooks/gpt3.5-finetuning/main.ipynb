{
 "cells": [
  {
   "cell_type": "markdown",
   "metadata": {},
   "source": [
    "## > Import libraries"
   ]
  },
  {
   "cell_type": "code",
   "execution_count": 1,
   "metadata": {},
   "outputs": [],
   "source": [
    "import time\n",
    "from dotenv import load_dotenv\n",
    "import os\n",
    "import sys\n",
    "import subprocess\n",
    "import shutil\n",
    "from jsmin import jsmin\n",
    "import re \n",
    "from selenium import webdriver\n",
    "from selenium.webdriver.chrome.service import Service as ChromeService\n",
    "from webdriver_manager.chrome import ChromeDriverManager\n",
    "from selenium.webdriver.common.by import By\n",
    "import git  # pip install gitpython"
   ]
  },
  {
   "cell_type": "markdown",
   "metadata": {},
   "source": [
    "## > Configs "
   ]
  },
  {
   "cell_type": "markdown",
   "metadata": {},
   "source": [
    "#### User configs"
   ]
  },
  {
   "cell_type": "code",
   "execution_count": 2,
   "metadata": {},
   "outputs": [],
   "source": [
    "URL_ISSUE = \"https://github.com/fictadvisor/fictadvisor-web/issues/864\"\n",
    "IS_FRONTEND = True\n",
    "RE_CLONE_REPOSITORY = False"
   ]
  },
  {
   "cell_type": "markdown",
   "metadata": {},
   "source": [
    "#### Constant configs"
   ]
  },
  {
   "cell_type": "code",
   "execution_count": 3,
   "metadata": {},
   "outputs": [],
   "source": [
    "CONTACT_NAME = \"https://t.me/akiyama_kiyoshi\"\n",
    "URL_FRONTEND_REPO = \"https://github.com/fictadvisor/fictadvisor-web.git\" \n",
    "DIRECTORY_FRONTEND_REPO = '../../../assets/repositories/frontend/'\n",
    "OPENAI_API_KEY=\"\""
   ]
  },
  {
   "cell_type": "markdown",
   "metadata": {},
   "source": [
    "## > Utils "
   ]
  },
  {
   "cell_type": "code",
   "execution_count": 4,
   "metadata": {},
   "outputs": [],
   "source": [
    "def is_github_issue(url):\n",
    "    pattern = r'https://github\\.com/[^/]+/[^/]+/issues/\\d+'\n",
    "    return bool(re.match(pattern, url))\n",
    "\n",
    "def issue_meta(url, driver, to_close = True):\n",
    "    \"\"\" \n",
    "    [url] - issue URL \n",
    "    Returns: {\"title\": ?, \"description\": ?} \n",
    "    \"\"\"\n",
    "    if not is_github_issue(url):\n",
    "        example_url = 'https://github.com/fictadvisor/fictadvisor-web/issues/655'\n",
    "        raise Exception(f\" Wrong URL \\n Your url: {url} \\n Exampple url: {example_url} \")\n",
    "\n",
    "    try: \n",
    "        driver.get(url)\n",
    "        issue_title = driver.find_element(By.CLASS_NAME, \"js-issue-title\").text\n",
    "        issue_description = driver.find_elements_by_css_selector('d-block,comment-body,markdown-body,js-comment-body')\n",
    "        if to_close: \n",
    "            driver.quit()\n",
    "        \n",
    "        return {\"title\": issue_title, \"description\":issue_description}\n",
    "    except: \n",
    "        driver.quit()\n",
    "        raise Exception(f\" Wrong URL \\n Your url: {url} \\n Something gone wrong during opening \")\n",
    "    \n",
    "def get_file_tree(path):\n",
    "    file_tree = \"\"\n",
    "    for dirpath, dirnames, filenames in os.walk(path):\n",
    "        for file_name in filenames:\n",
    "            file_tree += f\"\\t{file_name}\\n\"\n",
    "    return file_tree\n",
    "\n",
    "def get_all_folder_names(path):\n",
    "    \"\"\" removes duplicates \"\"\"\n",
    "    folders = []\n",
    "    for entry in os.scandir(path):\n",
    "        if entry.is_dir():\n",
    "            folders.append(os.path.basename(entry.path))\n",
    "            folders.extend(get_all_folder_names(entry.path))\n",
    "    return list(set(folders))\n",
    "\n",
    "def find_folders(base_path, folder_names):\n",
    "    \"\"\" returns paths to folder names \"\"\"\n",
    "    folder_paths = {}\n",
    "    for root, dirs, files in os.walk(base_path):\n",
    "        for folder_name in folder_names:\n",
    "            if folder_name in dirs:\n",
    "                folder_paths[folder_name] = os.path.join(root, folder_name)\n",
    "    return folder_paths\n",
    "\n",
    "def get_all_contents(path):\n",
    "    contents = []\n",
    "    for dirpath, dirnames, filenames in os.walk(path):\n",
    "        for dirname in dirnames:\n",
    "            contents.append(os.path.join(dirpath, dirname))\n",
    "        for filename in filenames:\n",
    "            contents.append(os.path.join(dirpath, filename))\n",
    "    return contents\n",
    "\n",
    "def minify_js_file(file_path):\n",
    "    with open(file_path, 'r') as js_file:\n",
    "        return jsmin(js_file.read())"
   ]
  },
  {
   "cell_type": "markdown",
   "metadata": {},
   "source": [
    "## > Setup"
   ]
  },
  {
   "cell_type": "code",
   "execution_count": 5,
   "metadata": {},
   "outputs": [],
   "source": [
    "if not IS_FRONTEND: raise Exception(\" Backend repository is not supported right now, for more details contact \" + CONTACT_NAME)"
   ]
  },
  {
   "cell_type": "code",
   "execution_count": 6,
   "metadata": {},
   "outputs": [
    {
     "name": "stderr",
     "output_type": "stream",
     "text": [
      "/bin/sh: line 1: google-chrome: command not found\n",
      "/bin/sh: line 1: google-chrome: command not found\n"
     ]
    }
   ],
   "source": [
    "driver = webdriver.Chrome(ChromeDriverManager().install())\n"
   ]
  },
  {
   "cell_type": "markdown",
   "metadata": {},
   "source": [
    "load env file "
   ]
  },
  {
   "cell_type": "code",
   "execution_count": 7,
   "metadata": {},
   "outputs": [
    {
     "data": {
      "text/plain": [
       "True"
      ]
     },
     "execution_count": 7,
     "metadata": {},
     "output_type": "execute_result"
    }
   ],
   "source": [
    "load_dotenv('../../.env')"
   ]
  },
  {
   "cell_type": "markdown",
   "metadata": {},
   "source": [
    "## > Getting repository"
   ]
  },
  {
   "cell_type": "code",
   "execution_count": 8,
   "metadata": {},
   "outputs": [],
   "source": [
    "if RE_CLONE_REPOSITORY:     \n",
    "    directory = '../assets/repositories/frontend/'\n",
    "    if os.path.exists(directory):\n",
    "        shutil.rmtree(directory)\n",
    "\n",
    "    subprocess.run([\"git\", \"clone\", URL_FRONTEND_REPO, DIRECTORY_FRONTEND_REPO])"
   ]
  },
  {
   "cell_type": "markdown",
   "metadata": {},
   "source": [
    "## > Setup"
   ]
  },
  {
   "cell_type": "markdown",
   "metadata": {},
   "source": [
    "## Prompting \n",
    "### Steps \n",
    "1. GPT should"
   ]
  },
  {
   "cell_type": "code",
   "execution_count": 9,
   "metadata": {},
   "outputs": [],
   "source": [
    "from openai import OpenAI\n",
    "client = OpenAI()"
   ]
  },
  {
   "cell_type": "code",
   "execution_count": 10,
   "metadata": {},
   "outputs": [],
   "source": [
    "folder_names_joined=','.join(get_all_folder_names(DIRECTORY_FRONTEND_REPO))\n",
    "issue = issue_meta(URL_ISSUE, driver, )"
   ]
  },
  {
   "cell_type": "code",
   "execution_count": 11,
   "metadata": {},
   "outputs": [],
   "source": [
    "completion = client.chat.completions.create(\n",
    "  model=\"gpt-3.5-turbo\",\n",
    "  messages=[\n",
    "    {\"role\": \"system\", \"content\": \"Act as experienced assistant. You are going to help users with their tasks. In this answer You need to answer what folders do you need to see to better answer the question. provide only folder names. Provide only folder names separated with \\n. Do  not write anything else\"},\n",
    "    {\"role\": \"user\", \"content\": f\" FolderStructure: {folder_names_joined}; \\n What folders do you need to check to better answer this:  {issue['title']} \\n {issue['description']}\"}\n",
    "  ]\n",
    ")"
   ]
  },
  {
   "cell_type": "code",
   "execution_count": 12,
   "metadata": {},
   "outputs": [],
   "source": [
    "folder_names = completion.choices[0].message.content.split(\",\")  \n",
    "folder_paths = find_folders('../', folder_names)\n",
    "structure_prompt = \"file structure of needed folders: \"\n",
    "\n",
    "for name, path in folder_paths.items():\n",
    "  structure_prompt += f\"{name}\\n {get_all_contents(path)}\\n\"  \n",
    "  \n",
    "  print(structure_prompt)"
   ]
  },
  {
   "cell_type": "code",
   "execution_count": null,
   "metadata": {},
   "outputs": [],
   "source": []
  },
  {
   "cell_type": "code",
   "execution_count": 13,
   "metadata": {},
   "outputs": [],
   "source": [
    "completion = client.chat.completions.create(\n",
    "  model=\"gpt-3.5-turbo\",\n",
    "  messages=[\n",
    "    {\"role\": \"system\", \"content\": \"Act as experienced assistant. You are going to help users with their tasks. In this answer You need to answer what files do you need to see to better answer the question. provide only file names. Provide only file names separated with \\n. Do  not write anything else\"},\n",
    "    {\"role\": \"user\", \"content\": f\" FolderStructure: {structure_prompt}; \\n What files do you need to check to better answer this:  {issue['title']}\"}\n",
    "  ]\n",
    ")"
   ]
  },
  {
   "cell_type": "code",
   "execution_count": 14,
   "metadata": {},
   "outputs": [],
   "source": [
    "paths = structure_prompt\n",
    "structure_prompt = \"\" \n",
    "\n",
    "\"\"\" TODO: SELECT NEEDED FILES LATER ( INSTEAD OF MINIFYING THEM ALL ) \"\"\"\n",
    "\"\"\" TODO: HANDLE ERRORS WHEN FILE READING \"\"\"\n",
    "for js_file_path in paths:\n",
    "    try: \n",
    "        minified = minify_js_file(js_file_path)\n",
    "        print(minified)\n",
    "        structure_prompt += (f\"file: {js_file_path}, content: {minified}\")\n",
    "    except: \n",
    "        pass\n",
    "    "
   ]
  },
  {
   "cell_type": "code",
   "execution_count": 15,
   "metadata": {},
   "outputs": [],
   "source": [
    "completion = client.chat.completions.create(\n",
    "  model=\"gpt-3.5-turbo\",\n",
    "  messages=[\n",
    "    {\"role\": \"system\", \"content\": \"you have been provided with the files you need to respond. If there is not enough information, try to answer anyway, but ask for more context if necessary. You need to make a detailed plan of how to complete the task, what to look for, and what can go wrong, and write the code for it.\"},\n",
    "    {\"role\": \"user\", \"content\": f\" How do i do this task: {issue['title']} using this: {structure_prompt}. Assume that in project used MUI, React, Next, Typescript\"}\n",
    "  ]\n",
    ")\n",
    "plan = completion.choices[0].message.content"
   ]
  },
  {
   "cell_type": "code",
   "execution_count": 16,
   "metadata": {},
   "outputs": [
    {
     "name": "stdout",
     "output_type": "stream",
     "text": [
      "Assuming you are using React and MUI in your project, here's a possible implementation to fix the bug mentioned:\n",
      "\n",
      "Step 1: Identify the code responsible for validating the password field.\n",
      "\n",
      "Locate the code that performs the password field validation. This might be in the component that corresponds to the \"Безпека\" tab or any related utility functions.\n",
      "\n",
      "Step 2: Check the existing validation logic.\n",
      "\n",
      "Check if the existing validation logic handles Cyrillic characters correctly. Look for any regex patterns or validation functions being used.\n",
      "\n",
      "Step 3: Update the validation logic.\n",
      "\n",
      "If the existing validation logic does not support Cyrillic characters, update it with the following approach:\n",
      "\n",
      "```typescript\n",
      "import React, { useState } from \"react\";\n",
      "import TextField from \"@mui/material/TextField\";\n",
      "\n",
      "const MyComponent = () => {\n",
      "  const [password, setPassword] = useState(\"\");\n",
      "  const [isValid, setIsValid] = useState(true);\n",
      "\n",
      "  const handlePasswordChange = (event: React.ChangeEvent<HTMLInputElement>) => {\n",
      "    const newPassword = event.target.value;\n",
      "    const passwordRegex = /^[A-Za-zА-Яа-я0-9]+$/;\n",
      "    const isValidPassword = passwordRegex.test(newPassword);\n",
      "    setIsValid(isValidPassword);\n",
      "    setPassword(newPassword);\n",
      "  };\n",
      "\n",
      "  return (\n",
      "    <TextField\n",
      "      label=\"Password\"\n",
      "      type=\"password\"\n",
      "      value={password}\n",
      "      error={!isValid}\n",
      "      helperText={!isValid ? \"Invalid password\" : \"\"}\n",
      "      onChange={handlePasswordChange}\n",
      "    />\n",
      "  );\n",
      "};\n",
      "```\n",
      "\n",
      "Here, a new state variable `isValid` is used to track the validity of the password field. The `handlePasswordChange` function is updated to perform validation using the regular expression `^[A-Za-zА-Яа-я0-9]+$`, which allows both Latin and Cyrillic characters.\n",
      "\n",
      "Step 4: Test the password field validation.\n",
      "\n",
      "Test the \"Безпека\" tab by entering Cyrillic characters in the password field and verify that the validation works as expected, recognizing valid and invalid Cyrillic passwords.\n",
      "\n",
      "Remember to update the code according to your project's specific implementation and test thoroughly.\n"
     ]
    },
    {
     "data": {
      "text/plain": [
       "' TODO: NEED MORE CONTEXT FROM COMPONENTS, MAKE LIST OF THEM AND FEED TO GPT WHEN NEEDED '"
      ]
     },
     "execution_count": 16,
     "metadata": {},
     "output_type": "execute_result"
    }
   ],
   "source": [
    "completion = client.chat.completions.create(\n",
    "  model=\"gpt-3.5-turbo\",\n",
    "  messages=[\n",
    "    {\"role\": \"system\", \"content\": \"Act as high experienced React developer. You need to write code that asked using plan provided if needed \"},\n",
    "    {\"role\": \"user\", \"content\": f\" How do i do this task: {issue['title']} using this: {structure_prompt}. Assume that in project used MUI, React, Next, Typescript\\n plan: {plan}\" }\n",
    "  ]\n",
    ")\n",
    "print(completion.choices[0].message.content)\n",
    "\n",
    "\"\"\" TODO: NEED MORE CONTEXT FROM COMPONENTS, MAKE LIST OF THEM AND FEED TO GPT WHEN NEEDED \"\"\""
   ]
  },
  {
   "cell_type": "markdown",
   "metadata": {},
   "source": []
  }
 ],
 "metadata": {
  "kernelspec": {
   "display_name": "base",
   "language": "python",
   "name": "python3"
  },
  "language_info": {
   "codemirror_mode": {
    "name": "ipython",
    "version": 3
   },
   "file_extension": ".py",
   "mimetype": "text/x-python",
   "name": "python",
   "nbconvert_exporter": "python",
   "pygments_lexer": "ipython3",
   "version": "3.11.5"
  }
 },
 "nbformat": 4,
 "nbformat_minor": 2
}
